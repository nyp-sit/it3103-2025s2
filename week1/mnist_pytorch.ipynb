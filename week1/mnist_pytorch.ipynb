{
 "cells": [
  {
   "cell_type": "markdown",
   "metadata": {
    "id": "jYysdyb-CaWM"
   },
   "source": [
    "# IT3103 Practical 1: Artificial Neural Networks"
   ]
  },
  {
   "cell_type": "markdown",
   "metadata": {
    "id": "FbVhjPpzn6BM"
   },
   "source": [
    "This guide trains a neural network model to classify images of clothing, like sneakers and shirts. It's okay if you don't understand all the details; this is a fast-paced overview of a complete PyTorch program with the details explained as you go.\n",
    "\n",
    "This guide uses [PyTorch](https://pytorch.org/) with `torchvision` and `torch.utils.data` to build and train models."
   ]
  },
  {
   "cell_type": "markdown",
   "metadata": {},
   "source": [
    "## Objectives\n",
    "* Create your first feedforward neural network for the image classification application.\n",
    "* Train your feedforward neural network\n",
    "* Test your trained neural network using test data\n",
    "* Refine your neural network architecture"
   ]
  },
  {
   "cell_type": "markdown",
   "metadata": {},
   "source": [
    "## Install and import the necessary libraries"
   ]
  },
  {
   "cell_type": "code",
   "execution_count": null,
   "metadata": {},
   "outputs": [],
   "source": [
    "!pip install torch torchvision tensorboard\n",
    "!pip install matplotlib"
   ]
  },
  {
   "cell_type": "code",
   "execution_count": null,
   "metadata": {
    "id": "dzLKpmZICaWN"
   },
   "outputs": [],
   "source": [
    "import torch\n",
    "from torch import nn\n",
    "from torchvision import datasets, transforms\n",
    "from torch.utils.data import DataLoader, random_split\n",
    "from torch.utils.tensorboard import SummaryWriter\n",
    "\n",
    "import numpy as np\n",
    "import matplotlib.pyplot as plt\n",
    "import os\n",
    "\n",
    "print(torch.__version__)"
   ]
  },
  {
   "cell_type": "markdown",
   "metadata": {
    "id": "yR0EdgrLCaWR"
   },
   "source": [
    "## Import the Fashion MNIST dataset"
   ]
  },
  {
   "cell_type": "markdown",
   "metadata": {
    "id": "DLdCchMdCaWQ"
   },
   "source": [
    "This guide uses the [Fashion MNIST](https://github.com/zalandoresearch/fashion-mnist) dataset which contains 70,000 grayscale images in 10 categories. The images show individual articles of clothing at low resolution (28 by 28 pixels), as seen here:\n",
    "\n",
    "<table>\n",
    "  <tr><td>\n",
    "    <img src=\"https://tensorflow.org/images/fashion-mnist-sprite.png\"\n",
    "         alt=\"Fashion MNIST sprite\"  width=\"600\">\n",
    "  </td></tr>\n",
    "  <tr><td align=\"center\">\n",
    "    <b>Figure 1.</b> <a href=\"https://github.com/zalandoresearch/fashion-mnist\">Fashion-MNIST samples</a> (by Zalando, MIT License).<br/>&nbsp;\n",
    "  </td></tr>\n",
    "</table>\n",
    "\n",
    "\n",
    "Here, 60,000 images are used to train the network and 10,000 images to evaluate how accurately the network learned to classify images. You can access the Fashion MNIST dataset directly from torchvision. Import and load the Fashion MNIST dataset directly from torchvision:"
   ]
  },
  {
   "cell_type": "code",
   "execution_count": null,
   "metadata": {
    "id": "7MqDQO0KCaWS"
   },
   "outputs": [],
   "source": [
    "transform = transforms.ToTensor()\n",
    "\n",
    "train_full = datasets.FashionMNIST(root='./data', train=True, download=True, transform=transform)\n",
    "test_ds = datasets.FashionMNIST(root='./data', train=False, download=True, transform=transform)\n",
    "\n",
    "print(len(train_full))\n",
    "print(len(test_ds))\n"
   ]
  },
  {
   "cell_type": "code",
   "execution_count": null,
   "metadata": {},
   "outputs": [],
   "source": [
    "# Further split train into train and validation\n",
    "train_ds, val_ds = random_split(train_full, [50000, 10000])\n",
    "print(len(train_ds))\n",
    "print(len(val_ds))\n",
    "print(len(test_ds))"
   ]
  },
  {
   "cell_type": "markdown",
   "metadata": {},
   "source": [
    "Question: Why we need further split train set into train set and validation set?"
   ]
  },
  {
   "cell_type": "markdown",
   "metadata": {},
   "source": [
    "Your ansers:"
   ]
  },
  {
   "cell_type": "code",
   "execution_count": null,
   "metadata": {},
   "outputs": [],
   "source": [
    "# Create data loaders\n",
    "batch_size = 64\n",
    "train_loader = DataLoader(train_ds, batch_size=batch_size, shuffle=True)\n",
    "val_loader = DataLoader(val_ds, batch_size=batch_size)\n",
    "test_loader = DataLoader(test_ds, batch_size=batch_size)"
   ]
  },
  {
   "cell_type": "markdown",
   "metadata": {},
   "source": [
    "Question: Why we need create data loaders?"
   ]
  },
  {
   "cell_type": "markdown",
   "metadata": {},
   "source": [
    "Your answers:"
   ]
  },
  {
   "cell_type": "markdown",
   "metadata": {},
   "source": [
    "## Explore the data\n",
    "\n"
   ]
  },
  {
   "cell_type": "markdown",
   "metadata": {},
   "source": [
    "The images are 28x28 NumPy arrays, with original pixel values ranging from 0 to 255. Here, images are already scaled to [0,1] by transforms.ToTensor() when we load the Fashion MNIST dataset."
   ]
  },
  {
   "cell_type": "code",
   "execution_count": null,
   "metadata": {},
   "outputs": [],
   "source": [
    "# confirm the range of the pixel values\n",
    "img, lbl = train_ds[0]\n",
    "print(img.shape)\n",
    "print(img.min(), img.max())"
   ]
  },
  {
   "cell_type": "markdown",
   "metadata": {
    "id": "t9FDsUlxCaWW"
   },
   "source": [
    "The *labels* are an array of integers, ranging from 0 to 9. These correspond to the *class* of clothing the image represents:\n",
    "\n",
    "<table>\n",
    "  <tr>\n",
    "    <th>Label</th>\n",
    "    <th>Class</th>\n",
    "  </tr>\n",
    "  <tr>\n",
    "    <td>0</td>\n",
    "    <td>T-shirt/top</td>\n",
    "  </tr>\n",
    "  <tr>\n",
    "    <td>1</td>\n",
    "    <td>Trouser</td>\n",
    "  </tr>\n",
    "    <tr>\n",
    "    <td>2</td>\n",
    "    <td>Pullover</td>\n",
    "  </tr>\n",
    "    <tr>\n",
    "    <td>3</td>\n",
    "    <td>Dress</td>\n",
    "  </tr>\n",
    "    <tr>\n",
    "    <td>4</td>\n",
    "    <td>Coat</td>\n",
    "  </tr>\n",
    "    <tr>\n",
    "    <td>5</td>\n",
    "    <td>Sandal</td>\n",
    "  </tr>\n",
    "    <tr>\n",
    "    <td>6</td>\n",
    "    <td>Shirt</td>\n",
    "  </tr>\n",
    "    <tr>\n",
    "    <td>7</td>\n",
    "    <td>Sneaker</td>\n",
    "  </tr>\n",
    "    <tr>\n",
    "    <td>8</td>\n",
    "    <td>Bag</td>\n",
    "  </tr>\n",
    "    <tr>\n",
    "    <td>9</td>\n",
    "    <td>Ankle boot</td>\n",
    "  </tr>\n",
    "</table>\n",
    "\n",
    "Each image is mapped to a single label. Since the *class names* are not included with the dataset, store them here to use later when plotting the images:"
   ]
  },
  {
   "cell_type": "code",
   "execution_count": null,
   "metadata": {
    "id": "IjnLH5S2CaWx"
   },
   "outputs": [],
   "source": [
    "class_names = ['T-shirt/top', 'Trouser', 'Pullover', 'Dress', 'Coat',\n",
    "               'Sandal', 'Shirt', 'Sneaker', 'Bag', 'Ankle boot']"
   ]
  },
  {
   "cell_type": "code",
   "execution_count": null,
   "metadata": {},
   "outputs": [],
   "source": [
    "# view labels for the first 20 samples\n",
    "print([train_ds[i][1] for i in range(20)])\n",
    "print([class_names[train_ds[i][1]] for i in range(20)])\n",
    "\n",
    "all_labels = [train_ds[i][1] for i in range(len(train_ds))] \n",
    "# confirm the range of labels\n",
    "print(min(all_labels), max(all_labels))\n"
   ]
  },
  {
   "cell_type": "markdown",
   "metadata": {},
   "source": [
    "## Exercise 1: \n",
    "Explore **validation** dataset by printing out the info of:\n",
    "* one sample in the validation dataset\n",
    "* the dimesnion of an image in the validation dataset\n",
    "* the labels for the first 20 samples from the validation dataset"
   ]
  },
  {
   "cell_type": "code",
   "execution_count": null,
   "metadata": {},
   "outputs": [],
   "source": [
    "# your code here:"
   ]
  },
  {
   "cell_type": "markdown",
   "metadata": {},
   "source": [
    "## Exercise 2: \n",
    "Explore **test** dataset by printing out the info of:\n",
    "* one sample in the test dataset\n",
    "* the dimesnion of an image in the test dataset\n",
    "* the labels for the first 20 samples from the test dataset"
   ]
  },
  {
   "cell_type": "code",
   "execution_count": null,
   "metadata": {},
   "outputs": [],
   "source": [
    "# your code here:"
   ]
  },
  {
   "cell_type": "markdown",
   "metadata": {
    "id": "ES6uQoLKCaWr"
   },
   "source": [
    "## Visualize the data\n"
   ]
  },
  {
   "cell_type": "markdown",
   "metadata": {},
   "source": [
    "Visualize the image using matplotlib with colorbar feature"
   ]
  },
  {
   "cell_type": "code",
   "execution_count": null,
   "metadata": {
    "id": "m4VEw8Ud9Quh"
   },
   "outputs": [],
   "source": [
    "plt.figure()\n",
    "img0 = train_full[0][0]\n",
    "plt.imshow(img0.squeeze(), cmap=plt.cm.binary)\n",
    "plt.colorbar()\n",
    "plt.grid(False)\n",
    "plt.show()"
   ]
  },
  {
   "cell_type": "markdown",
   "metadata": {
    "id": "Ee638AlnCaWz"
   },
   "source": [
    "let's display the first 25 images from the *training set* and display the class name below each image."
   ]
  },
  {
   "cell_type": "code",
   "execution_count": null,
   "metadata": {
    "id": "oZTImqg_CaW1"
   },
   "outputs": [],
   "source": [
    "plt.figure(figsize=(10,10))\n",
    "for i in range(25):\n",
    "    plt.subplot(5,5,i+1)\n",
    "    plt.xticks([])\n",
    "    plt.yticks([])\n",
    "    plt.grid(False)\n",
    "    img, lbl = train_full[i]\n",
    "    plt.imshow(img.squeeze(), cmap=plt.cm.binary)\n",
    "    plt.xlabel(class_names[lbl])\n",
    "plt.show()"
   ]
  },
  {
   "cell_type": "markdown",
   "metadata": {
    "id": "59veuiEZCaW4"
   },
   "source": [
    "## Build the model\n",
    "\n",
    "Building the neural network requires configuring the layers of the model, then compiling the model."
   ]
  },
  {
   "cell_type": "markdown",
   "metadata": {
    "id": "Gxg1XGm0eOBy"
   },
   "source": [
    "### Set up the layers\n",
    "\n",
    "The basic building block of a neural network is the *layer*. Layers extract representations from the data fed into them. Hopefully, these representations are meaningful for the problem at hand.\n",
    "\n",
    "Most of deep learning consists of chaining together simple layers. For our simple model, we can use the Sequential model to chain multiple layers together.\n",
    "\n",
    "Most layers, such as `torch.nn.Linear`, have parameters that are learned during training.\n",
    "\n",
    "Using torch.nn API, we will construct a neural network that consists of the following:\n",
    "\n",
    "- The first layer in this network, `torch.nn.Flatten`, transforms the format of the images from a two-dimensional array (of 28 by 28 pixels) to a one-dimensional array (of 28 * 28 = 784 pixels). Think of this layer as unstacking rows of pixels in the image and lining them up. This layer has no parameters to learn; it only reformats the data.\n",
    "\n",
    "- After the pixels are flattened, the network consists of a sequence of two dense layers. These are densely connected, or fully connected, neural layers. The first `Dense` layer has 128 nodes (or neurons) using activation fuction Rectified Linear Unit (ReLU). The second (and last) layer returns a logits array with length of 10. Each node contains a probability score that indicates how likely is the current image belongs to one of the 10 classes. We will use a softmax function as the activation function for the second (and last) layer to ensure the probability adds up to 1.0.\n",
    "\n",
    "- Use appropriate activation function for each layer"
   ]
  },
  {
   "cell_type": "code",
   "execution_count": null,
   "metadata": {
    "id": "j9SOgvjkr4OE"
   },
   "outputs": [],
   "source": [
    "class MLP(nn.Module):\n",
    "    def __init__(self):\n",
    "        super().__init__()\n",
    "        self.Flatten = nn.Flatten()\n",
    "        self.Linear1 = nn.Linear(28*28, 128)\n",
    "        self.ReLU = nn.ReLU()\n",
    "        self.Linear2 = nn.Linear(128, 10)\n",
    "        self.Softmax = nn.Softmax(dim=1)\n",
    "\n",
    "    def forward(self, x):\n",
    "        x = self.Flatten(x)\n",
    "        x = self.Linear1(x)\n",
    "        x = self.ReLU(x)\n",
    "        x = self.Linear2(x)\n",
    "        x = self.Softmax(x) \n",
    "        return x\n",
    "\n",
    "device = torch.device('cuda' if torch.cuda.is_available() else 'cpu')\n",
    "model = MLP().to(device)\n",
    "print(model)\n"
   ]
  },
  {
   "cell_type": "markdown",
   "metadata": {},
   "source": [
    "Deep dive into a PyTorch model - A close look at a PyTorch model using library torchinfo"
   ]
  },
  {
   "cell_type": "code",
   "execution_count": null,
   "metadata": {},
   "outputs": [],
   "source": [
    "!pip install torchinfo\n"
   ]
  },
  {
   "cell_type": "code",
   "execution_count": null,
   "metadata": {},
   "outputs": [],
   "source": [
    "from torchinfo import summary\n",
    "summary(model, input_size=(64, 1, 28, 28))  # e.g. batch size = 64\n"
   ]
  },
  {
   "cell_type": "markdown",
   "metadata": {
    "id": "gut8A_7rCaW6"
   },
   "source": [
    "\n",
    "### Compile the model\n",
    "\n",
    "Before the model is ready for training, it needs a few more settings. These are added during the model's *compile* step:\n",
    "\n",
    "* *Loss function* —This measures how accurate the model is during training. You want to minimize this function to \"steer\" the model in the right direction.\n",
    "* *Optimizer* —This is how the model is updated based on the data it sees and its loss function. In our case, we will just use Adam.\n",
    "* *Metrics* —Used to monitor the training and testing steps. In our case, we want to monitor *accuracy*, the fraction of the images that are correctly classified."
   ]
  },
  {
   "cell_type": "code",
   "execution_count": null,
   "metadata": {
    "id": "Lhan11blCaW7"
   },
   "outputs": [],
   "source": [
    "criterion = nn.CrossEntropyLoss()\n",
    "optimizer = torch.optim.Adam(model.parameters(), lr=1e-3)"
   ]
  },
  {
   "cell_type": "markdown",
   "metadata": {
    "id": "qKF6uW-BCaW-"
   },
   "source": [
    "## Train the model\n",
    "\n",
    "Training the neural network model requires the following steps:\n",
    "\n",
    "1. Feed the training data to the model. In this example, the training data is in the `train_images` and `train_labels` arrays.\n",
    "2. The model learns to associate images and labels.\n",
    "3. You ask the model to make predictions about a test set—in this example, the `test_images` array.\n",
    "4. Verify that the predictions match the labels from the `test_labels` array.\n"
   ]
  },
  {
   "cell_type": "markdown",
   "metadata": {
    "id": "Z4P4zIV7E28Z"
   },
   "source": [
    "To visualize the training progress, we use of the Tensorboard callback function tensorborad.SummaryWriter. "
   ]
  },
  {
   "cell_type": "code",
   "execution_count": null,
   "metadata": {
    "id": "sJtHeQ-gf_hi"
   },
   "outputs": [],
   "source": [
    "# TensorBoard writer\n",
    "root_logdir = os.path.join(os.curdir, \"tb_logs\")\n",
    "os.makedirs(root_logdir, exist_ok=True)\n",
    "from datetime import datetime\n",
    "run_id = datetime.now().strftime(\"run_%Y_%m_%d-%H_%M_%S\")\n",
    "run_logdir = os.path.join(root_logdir, run_id)\n",
    "writer = SummaryWriter(log_dir=run_logdir)\n"
   ]
  },
  {
   "cell_type": "markdown",
   "metadata": {},
   "source": [
    "We define the evaluation function to calculate the value of loss and accuracy."
   ]
  },
  {
   "cell_type": "code",
   "execution_count": null,
   "metadata": {},
   "outputs": [],
   "source": [
    "def evaluate(loader):\n",
    "    model.eval()\n",
    "    total_loss = 0.0\n",
    "    correct = 0\n",
    "    total = 0\n",
    "    with torch.no_grad():\n",
    "        for x, y in loader:\n",
    "            x, y = x.to(device), y.to(device)\n",
    "            logits = model(x)\n",
    "            loss = criterion(logits, y)\n",
    "            total_loss += loss.item() * x.size(0)\n",
    "            preds = logits.argmax(dim=1)\n",
    "            correct += (preds == y).sum().item()\n",
    "            total += x.size(0)\n",
    "    return total_loss / total, correct / total"
   ]
  },
  {
   "cell_type": "markdown",
   "metadata": {},
   "source": [
    "### Train the model with 30 epochs."
   ]
  },
  {
   "cell_type": "code",
   "execution_count": null,
   "metadata": {
    "id": "xvwvpA64CaW_"
   },
   "outputs": [],
   "source": [
    "epochs = 30\n",
    "\n",
    "for epoch in range(1, epochs+1):\n",
    "    model.train()\n",
    "    running_loss = 0.0\n",
    "    correct = 0\n",
    "    total = 0\n",
    "    for x, y in train_loader:\n",
    "        x, y = x.to(device), y.to(device)\n",
    "        optimizer.zero_grad()\n",
    "        logits = model(x)\n",
    "        loss = criterion(logits, y)\n",
    "        loss.backward()\n",
    "        optimizer.step()\n",
    "        running_loss += loss.item() * x.size(0)\n",
    "        preds = logits.argmax(dim=1)\n",
    "        correct += (preds == y).sum().item()\n",
    "        total += x.size(0)\n",
    "    train_loss = running_loss / total\n",
    "    train_acc = correct / total\n",
    "    val_loss, val_acc = evaluate(val_loader)\n",
    "    writer.add_scalars('Loss', {'train': train_loss, 'val': val_loss}, epoch)\n",
    "    writer.add_scalars('Accuracy', {'train': train_acc, 'val': val_acc}, epoch)\n",
    "    print(f\"Epoch {epoch:02d}: train_loss={train_loss:.4f} train_acc={train_acc:.4f} val_loss={val_loss:.4f} val_acc={val_acc:.4f}\")\n",
    "\n",
    "writer.flush()"
   ]
  },
  {
   "cell_type": "code",
   "execution_count": null,
   "metadata": {
    "id": "0dS80foscXtU"
   },
   "outputs": [],
   "source": [
    "%load_ext tensorboard\n",
    "%tensorboard --logdir tb_logs"
   ]
  },
  {
   "cell_type": "markdown",
   "metadata": {
    "id": "W3ZVOhugCaXA"
   },
   "source": [
    "As the model trains, the loss and accuracy metrics are displayed. This model reaches an accuracy of about 0.94 (or 94%) on the training data."
   ]
  },
  {
   "cell_type": "markdown",
   "metadata": {
    "id": "c9yi-ekz07MU"
   },
   "source": [
    "### Exercise 3:\n",
    "\n",
    "- What is the accuracy achieved by validation data?\n",
    "- Is there any overfitting?\n",
    "\n",
    "<details><summary>Click here for answer</summary>\n",
    "The validation accuracy should be around 0.89. Yes, there is overfitting (0.94 vs 0.89)\n",
    "</details>\n",
    "\n"
   ]
  },
  {
   "cell_type": "code",
   "execution_count": null,
   "metadata": {},
   "outputs": [],
   "source": [
    "## provide your answer here:\n",
    "\n"
   ]
  },
  {
   "cell_type": "markdown",
   "metadata": {
    "id": "wCpr6DGyE28h"
   },
   "source": [
    "## Test the model\n",
    "\n",
    "Next, compare how the model performs on the test dataset:"
   ]
  },
  {
   "cell_type": "code",
   "execution_count": null,
   "metadata": {
    "id": "VflXLEeECaXC"
   },
   "outputs": [],
   "source": [
    "test_loss, test_acc = evaluate(test_loader)\n",
    "print('\\nTest accuracy:', test_acc)"
   ]
  },
  {
   "cell_type": "markdown",
   "metadata": {
    "id": "yWfgsmVXCaXG"
   },
   "source": [
    "It turns out that the accuracy on the test dataset (and also validation dataset) is a little less than the accuracy on the training dataset. This gap between training accuracy and test accuracy represents *overfitting*. Overfitting happens when a machine learning model performs worse on new, previously unseen inputs than it does on the training data. An overfitted model \"memorizes\" the noise and details in the training dataset to a point where it negatively impacts the performance of the model on the new data."
   ]
  },
  {
   "cell_type": "markdown",
   "metadata": {
    "id": "v-PyD1SYE28q"
   },
   "source": [
    "### Make predictions\n",
    "\n",
    "With the model trained, you can use it to make predictions about some images.\n",
    "The model's linear outputs, [logits](https://developers.google.com/machine-learning/glossary#logits). Attach a softmax layer to convert the logits to probabilities, which are easier to interpret."
   ]
  },
  {
   "cell_type": "code",
   "execution_count": null,
   "metadata": {
    "id": "Gl91RPhdCaXI"
   },
   "outputs": [],
   "source": [
    "# Compute predictions on the whole test set\n",
    "model.eval()\n",
    "all_probs = []\n",
    "all_imgs = []\n",
    "all_labels = []\n",
    "with torch.no_grad():\n",
    "    for x, y in test_loader:\n",
    "        x = x.to(device)\n",
    "        logits = model(x)\n",
    "        probs = torch.softmax(logits, dim=1).cpu().numpy()\n",
    "        all_probs.append(probs)\n",
    "        all_imgs.append(x.cpu().numpy())\n",
    "        all_labels.append(y.numpy())\n",
    "\n",
    "preds = np.concatenate(all_probs, axis=0)\n",
    "# store numpy arrays for plotting below (match earlier variable names)\n",
    "test_images = np.concatenate(all_imgs, axis=0)[:, 0, :, :]\n",
    "test_labels = np.concatenate(all_labels, axis=0)"
   ]
  },
  {
   "cell_type": "markdown",
   "metadata": {
    "id": "x9Kk1voUCaXJ"
   },
   "source": [
    "Here, the model has predicted the label for each image in the testing set. Let's take a look at the first prediction:"
   ]
  },
  {
   "cell_type": "code",
   "execution_count": null,
   "metadata": {
    "id": "3DmJEUinCaXK"
   },
   "outputs": [],
   "source": [
    "print(preds[0])"
   ]
  },
  {
   "cell_type": "markdown",
   "metadata": {
    "id": "9kzNt0GL1sAi"
   },
   "source": [
    "You will notice that the prediction is not a single label that tell you what is the clothing object. Instead you get an array of 10 numbers. They represent the model's \"confidence\" that the image corresponds to each of the 10 different articles of clothing. You can see which label has the highest confidence value.\n",
    "\n",
    "\n",
    "You can use [``np.argmax()``](https://numpy.org/doc/stable/reference/generated/numpy.argmax.html) to find the index of the probabilities with the maximum value (maximum confidence)."
   ]
  },
  {
   "cell_type": "code",
   "execution_count": null,
   "metadata": {
    "id": "qsqenuPnCaXO"
   },
   "outputs": [],
   "source": [
    "np.argmax(preds[0])"
   ]
  },
  {
   "cell_type": "markdown",
   "metadata": {
    "id": "E51yS7iCCaXO"
   },
   "source": [
    "So, the model is most confident that this image is an ankle boot, or `class_names[9]`. Examining the test label shows that this classification is correct:"
   ]
  },
  {
   "cell_type": "code",
   "execution_count": null,
   "metadata": {
    "id": "Sd7Pgsu6CaXP"
   },
   "outputs": [],
   "source": [
    "test_labels[0]"
   ]
  },
  {
   "cell_type": "markdown",
   "metadata": {
    "id": "ygh2yYC972ne"
   },
   "source": [
    "Here we define some utility function to help us plot the full set of 10 class predictions."
   ]
  },
  {
   "cell_type": "code",
   "execution_count": null,
   "metadata": {
    "id": "DvYmmrpIy6Y1"
   },
   "outputs": [],
   "source": [
    "def plot_image(i, predictions_array, true_label, img):\n",
    "  true_label, img = true_label[i], img[i]\n",
    "  plt.grid(False)\n",
    "  plt.xticks([])\n",
    "  plt.yticks([])\n",
    "\n",
    "  plt.imshow(img, cmap=plt.cm.binary)\n",
    "\n",
    "  predicted_label = np.argmax(predictions_array)\n",
    "  if predicted_label == true_label:\n",
    "    color = 'blue'\n",
    "  else:\n",
    "    color = 'red'\n",
    "\n",
    "  plt.xlabel(\"{} {:2.0f}% ({})\".format(class_names[predicted_label],\n",
    "                                100*np.max(predictions_array),\n",
    "                                class_names[true_label]),\n",
    "                                color=color)\n",
    "\n",
    "def plot_value_array(i, predictions_array, true_label):\n",
    "  true_label = true_label[i]\n",
    "  plt.grid(False)\n",
    "  plt.xticks(range(10))\n",
    "  plt.yticks([])\n",
    "  thisplot = plt.bar(range(10), predictions_array, color=\"#777777\")\n",
    "  plt.ylim([0, 1])\n",
    "  predicted_label = np.argmax(predictions_array)\n",
    "\n",
    "  thisplot[predicted_label].set_color('red')\n",
    "  thisplot[true_label].set_color('blue')"
   ]
  },
  {
   "cell_type": "markdown",
   "metadata": {
    "id": "Zh9yABaME29S"
   },
   "source": [
    "### Verify predictions\n",
    "\n",
    "With the model trained, you can use it to make predictions about some images."
   ]
  },
  {
   "cell_type": "markdown",
   "metadata": {
    "id": "d4Ov9OFDMmOD"
   },
   "source": [
    "Let's look at the 0th image, predictions, and prediction array. Correct prediction labels are blue and incorrect prediction labels are red. The number gives the percentage (out of 100) for the predicted label."
   ]
  },
  {
   "cell_type": "code",
   "execution_count": null,
   "metadata": {
    "id": "HV5jw-5HwSmO"
   },
   "outputs": [],
   "source": [
    "i = 0   # choose image 0\n",
    "plt.figure(figsize=(6,3))\n",
    "plt.subplot(1,2,1)\n",
    "plot_image(i, preds[i], test_labels, test_images)\n",
    "plt.subplot(1,2,2)\n",
    "plot_value_array(i, preds[i],  test_labels)\n",
    "plt.show()"
   ]
  },
  {
   "cell_type": "code",
   "execution_count": null,
   "metadata": {
    "id": "Ko-uzOufSCSe"
   },
   "outputs": [],
   "source": [
    "i = 12\n",
    "plt.figure(figsize=(6,3))\n",
    "plt.subplot(1,2,1)\n",
    "plot_image(i, preds[i], test_labels, test_images)\n",
    "plt.subplot(1,2,2)\n",
    "plot_value_array(i, preds[i],  test_labels)\n",
    "plt.show()"
   ]
  },
  {
   "cell_type": "markdown",
   "metadata": {
    "id": "kgdvGD52CaXR"
   },
   "source": [
    "Let's plot several images with their predictions. Note that the model can be wrong even when very confident."
   ]
  },
  {
   "cell_type": "code",
   "execution_count": null,
   "metadata": {
    "id": "hQlnbqaw2Qu_"
   },
   "outputs": [],
   "source": [
    "# Plot the first X test images, their predicted labels, and the true labels.\n",
    "# Color correct predictions in blue and incorrect predictions in red.\n",
    "num_rows = 5\n",
    "num_cols = 3\n",
    "num_images = num_rows*num_cols\n",
    "plt.figure(figsize=(2*2*num_cols, 2*num_rows))\n",
    "for i in range(num_images):\n",
    "  plt.subplot(num_rows, 2*num_cols, 2*i+1)\n",
    "  plot_image(i, preds[i], test_labels, test_images)\n",
    "  plt.subplot(num_rows, 2*num_cols, 2*i+2)\n",
    "  plot_value_array(i, preds[i], test_labels)\n",
    "plt.tight_layout()\n",
    "plt.show()"
   ]
  },
  {
   "cell_type": "markdown",
   "metadata": {
    "id": "e4Sw445Z4Dxq"
   },
   "source": [
    "## Save the model\n",
    "\n",
    "We will now save our model which can be used for inference later on. In this example we will use the SavedModel format, which includes the weights and the model definition.\n",
    "\n"
   ]
  },
  {
   "cell_type": "code",
   "execution_count": null,
   "metadata": {
    "id": "H6dmqHRJ4M0o"
   },
   "outputs": [],
   "source": [
    "torch.save(model.state_dict(), 'fmnist_model.pt')"
   ]
  },
  {
   "cell_type": "markdown",
   "metadata": {
    "id": "R32zteKHCaXT"
   },
   "source": [
    "### Using the trained model for inference\n",
    "\n",
    "We will now use our saved model to to make a prediction about a single image.\n",
    "\n",
    "We will need to first load our trained model from the SavedModel.\n"
   ]
  },
  {
   "cell_type": "code",
   "execution_count": null,
   "metadata": {
    "id": "yRJ7JU7JCaXT"
   },
   "outputs": [],
   "source": [
    "saved_model = MLP().to(device)\n",
    "saved_model.load_state_dict(torch.load('fmnist_model.pt', map_location=device))\n",
    "saved_model.eval()\n"
   ]
  },
  {
   "cell_type": "code",
   "execution_count": null,
   "metadata": {
    "id": "0d2Jgkepj1Ey"
   },
   "outputs": [],
   "source": [
    "# Grab an image from the test dataset (already normalized [0,1]).\n",
    "img = test_images[1]\n",
    "\n",
    "print(img.shape)"
   ]
  },
  {
   "cell_type": "code",
   "execution_count": null,
   "metadata": {
    "id": "aiRrC7sOWMSe"
   },
   "outputs": [],
   "source": [
    "plt.imshow(img, cmap=plt.cm.binary)"
   ]
  },
  {
   "cell_type": "markdown",
   "metadata": {
    "id": "vz3bVp21CaXV"
   },
   "source": [
    "PyTorch models are optimized to make predictions on a *batch*, or collection, of examples at once. Accordingly, even though you're using a single image, you need to add it to a list:"
   ]
  },
  {
   "cell_type": "code",
   "execution_count": null,
   "metadata": {
    "id": "lDFh5yF_CaXW"
   },
   "outputs": [],
   "source": [
    "# Add the image to a batch where it's the only member.\n",
    "img_batch = img[None, None, :, :]  # shape (1,1,28,28)\n",
    "img_batch = torch.from_numpy(img_batch).float().to(device)\n",
    "\n",
    "print(img_batch.shape)"
   ]
  },
  {
   "cell_type": "markdown",
   "metadata": {
    "id": "EQ5wLTkcCaXY"
   },
   "source": [
    "Now predict the correct label for this image:"
   ]
  },
  {
   "cell_type": "code",
   "execution_count": null,
   "metadata": {
    "id": "o_rzNSdrCaXY"
   },
   "outputs": [],
   "source": [
    "with torch.no_grad():\n",
    "    logits = saved_model(img_batch)\n",
    "    preds_single = torch.softmax(logits, dim=1).cpu().numpy()\n",
    "\n",
    "print(preds_single)"
   ]
  },
  {
   "cell_type": "code",
   "execution_count": null,
   "metadata": {
    "id": "6Ai-cpLjO-3A"
   },
   "outputs": [],
   "source": [
    "plot_value_array(1, preds_single[0], test_labels)\n",
    "_ = plt.xticks(range(10), class_names, rotation=45)"
   ]
  },
  {
   "cell_type": "markdown",
   "metadata": {
    "id": "cU1Y2OAMCaXb"
   },
   "source": [
    "`logits = saved_model(img_batch)` returns a list of lists—one list for each image in the batch of data. Grab the predictions for our (only) image in the batch:"
   ]
  },
  {
   "cell_type": "code",
   "execution_count": null,
   "metadata": {
    "id": "2tRmdq_8CaXb"
   },
   "outputs": [],
   "source": [
    "np.argmax(preds_single[0])"
   ]
  },
  {
   "cell_type": "markdown",
   "metadata": {
    "id": "YFc2HbEVCaXd"
   },
   "source": [
    "And the model predicts a label as expected."
   ]
  },
  {
   "cell_type": "markdown",
   "metadata": {
    "id": "IAjFPrJfW70t"
   },
   "source": [
    "## Exercise 4\n",
    "\n",
    "Let's now look at the layers in your model. Increase the neurons (width) and number of layers (depth). What different results do you get for train and validation loss and accuracy, Why do you think that's the case?\n",
    "\n",
    "<details><summary>Click here for answer</summary>\n",
    "\n",
    "The following is just one possible config. Here we increase the number of neurons per layer and increases the number of hidden layers.\n",
    "\n",
    "Normally, with larger capacity, the training loss will decrease and training accuracy will generally improve. However, this does not seem to be the case. Our training loss/accuracy and validation loss/accuracy are almost  the same as before. Once possible explanation is that our we did not train the network long enough.. if we train further, our loss may further improve.. You can try that, if time permits. Or it maybe our network is not large enough.. Try to increase it further\n",
    "\n",
    "```\n",
    "class BiggerMLP(nn.Module):\n",
    "    def __init__(self):\n",
    "        super().__init__()\n",
    "        self.Flatten = nn.Flatten()\n",
    "        self.Linear1 = nn.Linear(28*28, 256)\n",
    "        self.ReLU = nn.ReLU()\n",
    "        self.Linear2 = nn.Linear(256,128)\n",
    "        self.Linear3 = nn.Linear(128, 10)\n",
    "        self.Softmax = nn.Softmax(dim=1)\n",
    "\n",
    "    def forward(self, x):\n",
    "        x = self.Flatten(x)\n",
    "        x = self.Linear1(x)\n",
    "        x = self.ReLU(x)\n",
    "        x = self.Linear2(x)\n",
    "        x = self.ReLU()\n",
    "        x = self.Linear3(x)\n",
    "        x = self.Softmax(x) \n",
    "        return x\n",
    "```\n",
    "\n",
    "</details>\n"
   ]
  },
  {
   "cell_type": "code",
   "execution_count": null,
   "metadata": {
    "id": "-9VqupsBmGWy"
   },
   "outputs": [],
   "source": [
    "# TODO: Construct a new PyTorch model with different width/depth and train it.\n",
    "# Example scaffold:\n",
    "# class BiggerMLP(nn.Module):\n",
    "#     def __init__(self):\n",
    "#         super().__init__()\n",
    "#         self.Flatten = nn.Flatten()\n",
    "#         self.Linear1 = nn.Linear(28*28, 256)\n",
    "#         self.ReLU = nn.ReLU()\n",
    "#         self.Linear2 = nn.Linear(256,128)\n",
    "#         self.Linear3 = nn.Linear(128, 10)\n",
    "#         self.Softmax = nn.Softmax(dim=1)\n",
    "#\n",
    "#     def forward(self, x):\n",
    "#         x = self.Flatten(x)\n",
    "#         x = self.Linear1(x)\n",
    "#         x = self.ReLU(x)\n",
    "#         x = self.Linear2(x)\n",
    "#         x = self.ReLU(x)\n",
    "#         x = self.Linear3(x)\n",
    "#         x = self.Softmax(x) \n",
    "#         return x\n",
    "#\n",
    "# model = BiggerMLP().to(device)\n",
    "# criterion = nn.CrossEntropyLoss()\n",
    "# optimizer = torch.optim.Adam(model.parameters(), lr=1e-3)\n",
    "# # ... reuse the training loop above ...\n",
    "#\n",
    "# # TODO: Evaluate the model on test set\n",
    "# test_loss, test_acc = evaluate(test_loader)\n",
    "# print('Test accuracy:', test_acc)\n"
   ]
  },
  {
   "cell_type": "markdown",
   "metadata": {
    "id": "PLTcfuE0pBrT"
   },
   "source": [
    "## Exercise 5\n",
    "\n",
    "Add in Dropout layer after each Dense layer (except output layer) and retrain the network. Observe what happens.\n",
    "\n",
    "<details><summary>Click here for answer</summary>\n",
    "\n",
    "The following is just one possible config. With Dropout, we can see that our validation and training loss/accuracy are tracking each other more closely: 0.88 vs 0.88. In other words, we have reduced the overfitting.  You can try to train further to see if both training and validation accuracy continue to improve in tandem.\n",
    "\n",
    "```\n",
    "# class DropoutMLP(nn.Module):\n",
    "#     def __init__(self):\n",
    "#         super().__init__()\n",
    "#         self.Flatten = nn.Flatten()\n",
    "#         self.Linear1 = nn.Linear(28*28, 256)        \n",
    "#         self.Linear2 = nn.Linear(256,128)\n",
    "#         self.Linear3 = nn.Linear(128, 10)\n",
    "#         self.ReLU = nn.ReLU()\n",
    "#         self.Softmax = nn.Softmax(dim=1)\n",
    "#         self.Dropout = nn.Dropout()\n",
    "\n",
    "#     def forward(self, x):\n",
    "#         x = self.Flatten(x)\n",
    "#         x = self.Linear1(x)\n",
    "#         x = self.ReLU(x)\n",
    "#         x = self.Dropout()\n",
    "#         x = self.Linear2(x)\n",
    "#         x = self.ReLU()\n",
    "#         x = self.Dropout()\n",
    "#         x = self.Linear3(x)\n",
    "#         x = self.Softmax(x) \n",
    "#         return x\n",
    "```\n"
   ]
  },
  {
   "cell_type": "code",
   "execution_count": null,
   "metadata": {
    "id": "5uRpQmHKtzhC"
   },
   "outputs": [],
   "source": [
    "# TODO: Define and train the model with Dropout after each Dense layer\n",
    "# Example scaffold:\n",
    "# class DropoutMLP(nn.Module):\n",
    "#     def __init__(self):\n",
    "#         super().__init__()\n",
    "#         self.Flatten = nn.Flatten()\n",
    "#         self.Linear1 = nn.Linear(28*28, 256)        \n",
    "#         self.Linear2 = nn.Linear(256,128)\n",
    "#         self.Linear3 = nn.Linear(128, 10)\n",
    "#         self.ReLU = nn.ReLU()\n",
    "#         self.Softmax = nn.Softmax(dim=1)\n",
    "#         self.Dropout = nn.Dropout()\n",
    "\n",
    "#     def forward(self, x):\n",
    "#         x = self.Flatten(x)\n",
    "#         x = self.Linear1(x)\n",
    "#         x = self.ReLU(x)\n",
    "#         x = self.Dropout(x)\n",
    "#         x = self.Linear2(x)\n",
    "#         x = self.ReLU(x)\n",
    "#         x = self.Dropout(x)\n",
    "#         x = self.Linear3(x)\n",
    "#         x = self.Softmax(x) \n",
    "#         return x\n",
    "\n",
    "# model = DropoutMLP().to(device)\n",
    "# criterion = nn.CrossEntropyLoss()\n",
    "# optimizer = torch.optim.Adam(model.parameters(), lr=1e-3)\n",
    "# # ... reuse the training loop above ...\n",
    "#\n",
    "# # TODO: Evaluate the model on test set\n",
    "# test_loss, test_acc = evaluate(test_loader)\n",
    "# print('Test accuracy:', test_acc)"
   ]
  }
 ],
 "metadata": {
  "accelerator": "GPU",
  "colab": {
   "include_colab_link": true,
   "name": "mnist_keras.ipynb",
   "provenance": []
  },
  "kernelspec": {
   "display_name": "IT3103",
   "language": "python",
   "name": "python3"
  },
  "language_info": {
   "codemirror_mode": {
    "name": "ipython",
    "version": 3
   },
   "file_extension": ".py",
   "mimetype": "text/x-python",
   "name": "python",
   "nbconvert_exporter": "python",
   "pygments_lexer": "ipython3",
   "version": "3.12.0"
  }
 },
 "nbformat": 4,
 "nbformat_minor": 0
}
